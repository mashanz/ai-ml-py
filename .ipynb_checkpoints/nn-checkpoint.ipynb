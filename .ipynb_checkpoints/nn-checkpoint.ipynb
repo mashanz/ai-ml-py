{
 "cells": [
  {
   "cell_type": "markdown",
   "metadata": {},
   "source": [
    "# Preparation : Load Library\n",
    "\n",
    "Pada Bagian ini kita akan melakukan sebuah operasi **Neural Network** sederhana.\n",
    "Dengan 2 Input dan 1 output dan 2 hidden layer dengan 3 node.\n",
    "maka akan terdapat node sebagai berikut: \n",
    "```\n",
    "[2 3 3 1]\n",
    "```\n",
    "dan network sebagai berikut\n",
    "```\n",
    "   0   0   0       \n",
    "       0   0   0  \n",
    "   0   0   0      \n",
    "\n",
    "   a   b   c   d\n",
    "```\n",
    "dengan demikian akan ada 3 matrix network:\n",
    "```\n",
    "ab = [2, 3]\n",
    "bc = [3, 3]\n",
    "cd = [3, 1]\n",
    "```"
   ]
  },
  {
   "cell_type": "code",
   "execution_count": 1,
   "metadata": {},
   "outputs": [],
   "source": [
    "import tensorflow.keras.backend as k\n",
    "import tensorflow as tf\n",
    "import numpy as np"
   ]
  },
  {
   "cell_type": "markdown",
   "metadata": {},
   "source": [
    "# Membuat Dataset\n",
    "\n",
    "Di sini kita akan membuat set data untuk keperluan training\n",
    "dan data yang kita gunakan adalah data logic XOR dengan 2 input dan 1 output.\n",
    "\n",
    "```\n",
    "0 XOR 0 -> 0\n",
    "0 XOR 1 -> 1\n",
    "1 XOR 0 -> 1\n",
    "1 XOR 1 -> 0\n",
    "```"
   ]
  },
  {
   "cell_type": "code",
   "execution_count": 2,
   "metadata": {},
   "outputs": [],
   "source": [
    "X = np.array([[0, 0],\n",
    "              [0, 1],\n",
    "              [1, 0],\n",
    "              [1, 1]])\n",
    "\n",
    "Y = np.array([[0],\n",
    "              [1],\n",
    "              [1],\n",
    "              [0]])"
   ]
  },
  {
   "cell_type": "markdown",
   "metadata": {},
   "source": [
    "# Membuat tensor"
   ]
  },
  {
   "cell_type": "code",
   "execution_count": 3,
   "metadata": {},
   "outputs": [],
   "source": [
    "X = tf.convert_to_tensor(X, dtype=tf.float16)\n",
    "Y = tf.convert_to_tensor(Y, dtype=tf.float16)"
   ]
  },
  {
   "cell_type": "markdown",
   "metadata": {},
   "source": [
    "# Randomly initialise two weight matrics\n",
    "```\n",
    "w1 is a matric with dims [2, 3]\n",
    "w2 is a matric with dims [3, 3]\n",
    "w3 is a matric with dims [3, 1]\n",
    "```\n",
    "Coastin them to variable since value can be changed during optimisation"
   ]
  },
  {
   "cell_type": "code",
   "execution_count": 4,
   "metadata": {},
   "outputs": [],
   "source": [
    "w1 = tf.Variable(np.random.randn(2, 3), dtype=tf.float16)\n",
    "w2 = tf.Variable(np.random.randn(3, 3), dtype=tf.float16)\n",
    "w3 = tf.Variable(np.random.randn(3, 1), dtype=tf.float16)"
   ]
  },
  {
   "cell_type": "markdown",
   "metadata": {},
   "source": [
    "# Create a function that propagates X throught the network"
   ]
  },
  {
   "cell_type": "code",
   "execution_count": 5,
   "metadata": {},
   "outputs": [],
   "source": [
    "@tf.function\n",
    "def forward(X, w1, w2, w3):\n",
    "    X = tf.sigmoid(tf.matmul(X, w1))\n",
    "    X = tf.sigmoid(tf.matmul(X, w2))\n",
    "    X = tf.sigmoid(tf.matmul(X, w3))\n",
    "    return X"
   ]
  },
  {
   "cell_type": "code",
   "execution_count": 6,
   "metadata": {},
   "outputs": [
    {
     "name": "stdout",
     "output_type": "stream",
     "text": [
      "tf.Tensor(\n",
      "[[0.4077]\n",
      " [0.4268]\n",
      " [0.3862]\n",
      " [0.4016]], shape=(4, 1), dtype=float16)\n"
     ]
    }
   ],
   "source": [
    "print(forward(X, w1, w2, w3))"
   ]
  },
  {
   "cell_type": "markdown",
   "metadata": {},
   "source": [
    "From the previous sliide we can see that\n",
    "he model is just guessing. we need to implement\n",
    "a loss function that tells the optimizer how far off\n",
    "the prediction are from the actual target values."
   ]
  },
  {
   "cell_type": "code",
   "execution_count": 7,
   "metadata": {},
   "outputs": [],
   "source": [
    "@tf.function\n",
    "def loss(predicted_y, target_y):\n",
    "    return tf.reduce_mean(k.binary_crossentropy(target_y, predicted_y))"
   ]
  },
  {
   "cell_type": "markdown",
   "metadata": {},
   "source": [
    "Train Function's role to converge the model towards the actual target value"
   ]
  },
  {
   "cell_type": "code",
   "execution_count": 8,
   "metadata": {},
   "outputs": [],
   "source": [
    "@tf.function\n",
    "def train(inputs, outputs, learning_rate):\n",
    "    with tf.GradientTape() as tape:\n",
    "        # Calculate loss\n",
    "        current_loss = loss(forward(X, w1, w2, w3), outputs)\n",
    "    # find gradien between the loss and each weight matrix\n",
    "    dW1, dW2, dW3 = tape.gradient(current_loss, [w1, w2, w3])\n",
    "    # backpropate and tune weights\n",
    "    w1.assign_sub(learning_rate * dW1)\n",
    "    w2.assign_sub(learning_rate * dW2)\n",
    "    w3.assign_sub(learning_rate * dW3)\n",
    "    del tape"
   ]
  },
  {
   "cell_type": "markdown",
   "metadata": {},
   "source": [
    "Train the model for a number of iteration (epochs) Overtime the loss outputted onto the console will decrease, this means that your model is successfully training."
   ]
  },
  {
   "cell_type": "code",
   "execution_count": 9,
   "metadata": {},
   "outputs": [
    {
     "name": "stdout",
     "output_type": "stream",
     "text": [
      "Current Loss: 0.11194\n"
     ]
    }
   ],
   "source": [
    "epochs = range(10000)\n",
    "learning_rate = 0.1\n",
    "\n",
    "for epochs in epochs:\n",
    "    # Calculate loss to output.\n",
    "    current_loss = loss(forward(X, w1, w2, w3), Y)\n",
    "    # Forward the input data and tweak weights.\n",
    "    train(X, Y, learning_rate)\n",
    "print(\"Current Loss: {:2.5f}\".format(current_loss))"
   ]
  },
  {
   "cell_type": "markdown",
   "metadata": {},
   "source": [
    "# Test the model with a suitable domain"
   ]
  },
  {
   "cell_type": "code",
   "execution_count": 10,
   "metadata": {},
   "outputs": [
    {
     "name": "stdout",
     "output_type": "stream",
     "text": [
      "0 XOR 0 -> [[0.1501]] = 0\n",
      "0 XOR 1 -> [[0.8926]] = 1\n",
      "1 XOR 0 -> [[0.8975]] = 1\n",
      "1 XOR 1 -> [[0.06082]] = 0\n"
     ]
    }
   ],
   "source": [
    "x_ = tf.convert_to_tensor(np.array([[0, 0]]), dtype=tf.float16)\n",
    "print(f\"0 XOR 0 -> {forward(x_, w1, w2, w3).numpy()} = { (0, 1)[ float(forward(x_, w1, w2, w3).numpy()[0][0]) > 0.5 ]}\")\n",
    "\n",
    "x_ = tf.convert_to_tensor(np.array([[0, 1]]), dtype=tf.float16)\n",
    "print(f\"0 XOR 1 -> {forward(x_, w1, w2, w3).numpy()} = { (0, 1)[ float(forward(x_, w1, w2, w3).numpy()[0][0]) > 0.5 ]}\")\n",
    "\n",
    "x_ = tf.convert_to_tensor(np.array([[1, 0]]), dtype=tf.float16)\n",
    "print(f\"1 XOR 0 -> {forward(x_, w1, w2, w3).numpy()} = { (0, 1)[ float(forward(x_, w1, w2, w3).numpy()[0][0]) > 0.5 ]}\")\n",
    "\n",
    "x_ = tf.convert_to_tensor(np.array([[1, 1]]), dtype=tf.float16)\n",
    "print(f\"1 XOR 1 -> {forward(x_, w1, w2, w3).numpy()} = { (0, 1)[ float(forward(x_, w1, w2, w3).numpy()[0][0]) > 0.5 ]}\")"
   ]
  }
 ],
 "metadata": {
  "kernelspec": {
   "display_name": "Python 3",
   "language": "python",
   "name": "python3"
  },
  "language_info": {
   "codemirror_mode": {
    "name": "ipython",
    "version": 3
   },
   "file_extension": ".py",
   "mimetype": "text/x-python",
   "name": "python",
   "nbconvert_exporter": "python",
   "pygments_lexer": "ipython3",
   "version": "3.7.7"
  }
 },
 "nbformat": 4,
 "nbformat_minor": 4
}
